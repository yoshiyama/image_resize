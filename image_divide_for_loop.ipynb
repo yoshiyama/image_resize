{
 "cells": [
  {
   "cell_type": "code",
   "execution_count": null,
   "metadata": {
    "collapsed": true
   },
   "outputs": [],
   "source": [
    "#Reference\n",
    "# https://tomomai.com/python-opencv-numpy/\n",
    "# https://qiita.com/kino15/items/ece822ec20ad5e80e382"
   ]
  },
  {
   "cell_type": "code",
   "execution_count": null,
   "outputs": [],
   "source": [
    "# !conda list"
   ],
   "metadata": {
    "collapsed": false,
    "pycharm": {
     "name": "#%%\n"
    }
   }
  },
  {
   "cell_type": "code",
   "execution_count": null,
   "outputs": [],
   "source": [
    "from PIL import Image\n",
    "# import pillow\n",
    "import glob\n",
    "import os\n",
    "\n",
    "# import PIL"
   ],
   "metadata": {
    "collapsed": false,
    "pycharm": {
     "name": "#%%\n"
    }
   }
  },
  {
   "cell_type": "code",
   "execution_count": null,
   "outputs": [],
   "source": [
    "# 画像分割　sepa.py\n",
    "# import os\n",
    "import matplotlib.pyplot as plt\n",
    "import cv2\n",
    "import numpy as np"
   ],
   "metadata": {
    "collapsed": false,
    "pycharm": {
     "name": "#%%\n"
    }
   }
  },
  {
   "cell_type": "code",
   "execution_count": null,
   "outputs": [],
   "source": [
    "#対象ディレクトリ移動\n",
    "# %cd C:\\Users\\survey\\Pictures\\GoPro\\2021-03-01\\HERO9 Black 4\\20210301_images_3840x2048\n",
    "%cd C:\\Users\\survey\\Pictures\\GoPro\\2021-03-01\\HERO9 Black 4\\try"
   ],
   "metadata": {
    "collapsed": false,
    "pycharm": {
     "name": "#%%\n"
    }
   }
  },
  {
   "cell_type": "code",
   "execution_count": null,
   "outputs": [],
   "source": [
    "#当該ディレクトリにてファイル名のGet\n",
    "files = glob.glob(\"*.jpg\")\n"
   ],
   "metadata": {
    "collapsed": false,
    "pycharm": {
     "name": "#%%\n"
    }
   }
  },
  {
   "cell_type": "code",
   "execution_count": null,
   "outputs": [],
   "source": [
    "# !dir\n",
    "# files = glob.glob(\"*.jpg\")\n",
    "# os.getcwd()\n",
    "print(files[0])\n",
    "# image = cv2.imread(files[0])\n",
    "image = Image.open(files[0])#pillow\n",
    "# h,w=image.shape[:2]\n",
    "width,height = image.size\n",
    "print(\"width=\",width)\n",
    "print(\"height=\",height)\n",
    "unit=256\n",
    "w_n=int(width/unit)\n",
    "h_n=int(height/unit)\n",
    "print(\"the numbers of separated at width=\",w_n)\n",
    "print(\"the numbers of separated at height=\",h_n)"
   ],
   "metadata": {
    "collapsed": false,
    "pycharm": {
     "name": "#%%\n"
    }
   }
  },
  {
   "cell_type": "code",
   "execution_count": null,
   "outputs": [],
   "source": [
    "max=2\n",
    "#numsはリスト化の変数\n",
    "nums = list(range(1,max+1))\n",
    "for number in nums:\n",
    "    # print(number)\n",
    "    for file in files:\n",
    "        words=file.split(\".\")#拡張子前を抽出\n",
    "        # print(words[0])\n",
    "        # print(\"oi\")\n",
    "        if int(words[0])==number:#拡張子前が画像ナンバーと合っていたら次の処理を実行\n",
    "            print(words[0])\n",
    "            # height=width=256\n",
    "            # 縦の分割枚数\n",
    "            image= Image.open(file)\n",
    "            for h1 in range(8):\n",
    "                # 横の分割枚数\n",
    "                for w1 in range(15):\n",
    "                    # w2 = w1 * height\n",
    "                    # h2 = h1 * width\n",
    "                    w2 = w1 * unit\n",
    "                    h2 = h1 * unit\n",
    "\n",
    "                    # print(w2, h2, width + w2, height + h2)\n",
    "                    # im=image.crop((w2, h2, width + w2, height + h2))\n",
    "                    print(w2, h2, unit + w2, unit + h2)\n",
    "                    im=image.crop((w2, h2, unit + w2, unit + h2))                    #保存ファイル名の工夫\n",
    "                    #ファイル名を含めた方がいい\n",
    "                    im.save(\"./out/\"+words[0]+\"-\"+str(h1+1)+\"_\"+str(w1+1)+\".jpg\",\"JPEG\")\n"
   ],
   "metadata": {
    "collapsed": false,
    "pycharm": {
     "name": "#%%\n"
    }
   }
  }
 ],
 "metadata": {
  "kernelspec": {
   "display_name": "Python 3",
   "language": "python",
   "name": "python3"
  },
  "language_info": {
   "codemirror_mode": {
    "name": "ipython",
    "version": 2
   },
   "file_extension": ".py",
   "mimetype": "text/x-python",
   "name": "python",
   "nbconvert_exporter": "python",
   "pygments_lexer": "ipython2",
   "version": "2.7.6"
  }
 },
 "nbformat": 4,
 "nbformat_minor": 0
}